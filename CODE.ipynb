{
 "cells": [
  {
   "cell_type": "code",
   "execution_count": 1,
   "metadata": {},
   "outputs": [],
   "source": [
    "from gtts import gTTS           \n",
    "from PIL import Image          \n",
    "import PIL                      \n",
    "import gtts                    \n",
    "import pytesseract              \n",
    "from tkinter import filedialog  \n",
    "from tkinter import *"
   ]
  },
  {
   "cell_type": "code",
   "execution_count": 2,
   "metadata": {},
   "outputs": [
    {
     "name": "stdout",
     "output_type": "stream",
     "text": [
      "\n",
      "***MENU***\n",
      "1.Image to Text\n",
      "2.Image to Speech\n",
      "3.Text to Speech\n",
      "4.Exit\n",
      "3\n",
      "Enter text to be converted:             Reinforcement Learning in large action spaces is a challenging problem. Cooperative multi-agent reinforcement learning (MARL) exacerbates matters by imposing various constraints on communication and observability\n",
      "Saved\n",
      "\n",
      "***MENU***\n",
      "1.Image to Text\n",
      "2.Image to Speech\n",
      "3.Text to Speech\n",
      "4.Exit\n",
      "4\n"
     ]
    }
   ],
   "source": [
    "ch=0\n",
    "while ch!=4:\n",
    "    print(\"\")\n",
    "    print(\"***MENU***\")\n",
    "    print(\"1.Image to Text\")\n",
    "    print(\"2.Image to Speech\")\n",
    "    print(\"3.Text to Speech\")\n",
    "    print(\"4.Exit\")\n",
    "    ch= int(input())\n",
    "    \n",
    "    if ch==1 :\n",
    "        root= Tk()   \n",
    "        root.filename =  filedialog.askopenfilename(initialdir = \"/\",title = \"Select image to open\",filetypes = ((\"jpeg files\",\"*.jpg\"),(\"all files\",\"*.*\")))\n",
    "                                                       \n",
    "        img= PIL.Image.open(root.filename)      \n",
    "        result= pytesseract.image_to_string(img)  \n",
    "        \n",
    "        print(result)\n",
    "        if(result==\"\"):\n",
    "            print(\"Sorry!! Nothing recogonized\")\n",
    "        \n",
    "    elif ch==2:\n",
    "        root= Tk()    \n",
    "        root.filename =  filedialog.askopenfilename(initialdir = \"/\",title = \"Select image to open\",filetypes = ((\"jpeg files\",\"*.jpg\"),(\"all files\",\"*.*\")))\n",
    "                                                       \n",
    "        img= PIL.Image.open(root.filename)     \n",
    "        result= pytesseract.image_to_string(img)  \n",
    "        \n",
    "        if(result==\"\"):\n",
    "            print(\"Sorry!! Nothing recogonized\")\n",
    "            continue\n",
    "            \n",
    "        res= gTTS(result)                \n",
    "        root.filename =  filedialog.asksaveasfilename(initialdir = \"/\",title = \"Save audio file\",filetypes = ((\"mp3 files\",\"*.mp3\"),(\"all files\",\"*.*\")))\n",
    "                                         \n",
    "        res.save(root.filename+ '.mp3')     \n",
    "        print(\"Saved\")\n",
    "        \n",
    "    elif ch==3:\n",
    "        root= Tk() \n",
    "        textInp= input(\"Enter text to be converted:\")\n",
    "        res= gTTS(textInp)\n",
    "        root.filename =  filedialog.asksaveasfilename(initialdir = \"/\",title = \"Save audio file\",filetypes = ((\"mp3 files\",\".mp3\"),(\"all files\",\"*.*\")))\n",
    "        res.save(root.filename+ '.mp3')\n",
    "        \n",
    "        print(\"Saved\")\n",
    "        \n",
    "    elif ch!=4:\n",
    "        print(\"Enter valid choice\")\n",
    "        \n",
    "        \n"
   ]
  },
  {
   "cell_type": "code",
   "execution_count": null,
   "metadata": {},
   "outputs": [],
   "source": []
  },
  {
   "cell_type": "code",
   "execution_count": null,
   "metadata": {},
   "outputs": [],
   "source": []
  }
 ],
 "metadata": {
  "kernelspec": {
   "display_name": "Python 3 (ipykernel)",
   "language": "python",
   "name": "python3"
  },
  "language_info": {
   "codemirror_mode": {
    "name": "ipython",
    "version": 3
   },
   "file_extension": ".py",
   "mimetype": "text/x-python",
   "name": "python",
   "nbconvert_exporter": "python",
   "pygments_lexer": "ipython3",
   "version": "3.9.7"
  }
 },
 "nbformat": 4,
 "nbformat_minor": 2
}
